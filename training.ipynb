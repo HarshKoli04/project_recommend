{
 "cells": [
  {
   "cell_type": "code",
   "execution_count": null,
   "metadata": {},
   "outputs": [],
   "source": [
    "import streamlit as st\n",
    "import pandas as pd\n",
    "\n",
    "\n",
    "st.title(\"for Data Entry:\")\n",
    "\n",
    "def append_to_excel(data, file_name):\n",
    "    \n",
    "    try:\n",
    "        df = pd.read_excel(file_name)\n",
    "    except:\n",
    "        df = pd.DataFrame()\n",
    "    \n",
    "    \n",
    "    df = df.append(data, ignore_index=True)\n",
    "    df.to_excel(file_name, index=False)\n",
    "\n",
    "\n",
    "with st.form(\"append_data_form\"):\n",
    "    \n",
    "    proj_title = st.text_input(\"Project Title\")\n",
    "    required_skills = st.text_input(\"Required Skills\")\n",
    "    difficulty = st.text_input(\"Difficulty level\")\n",
    "    proj_type = st.text_input(\"Project Type\")\n",
    "    proj_domain = st.text_input(\"Project Domain\")\n",
    "\n",
    "   \n",
    "    submit_button = st.form_submit_button(label=\"Append Data\")\n",
    "\n",
    "\n",
    "data = {\"Project_title\": proj_title, \"Required_Skills\": required_skills, \"Difficulty_level\": difficulty, \"Project_type\":proj_type,\"Project_domain\":proj_domain}\n",
    "\n",
    "# Append data to Excel file when form is submitted\n",
    "# if submit_button:\n",
    "#     file_name = \"ASIANPAINT.xlsx\"  # Change this to your desired file name\n",
    "#     append_to_excel(data, file_name)\n",
    "#     st.success(\"Data appended successfully!\")"
   ]
  },
  {
   "cell_type": "code",
   "execution_count": null,
   "metadata": {},
   "outputs": [],
   "source": [
    "import pandas as pd\n",
    "import streamlit as st\n",
    "from sklearn.metrics.pairwise import cosine_similarity\n",
    "from sklearn.feature_extraction.text import TfidfVectorizer\n",
    "import plotly.express as px\n",
    "import base64\n",
    "import pymongo"
   ]
  }
 ],
 "metadata": {
  "language_info": {
   "name": "python"
  },
  "orig_nbformat": 4
 },
 "nbformat": 4,
 "nbformat_minor": 2
}
